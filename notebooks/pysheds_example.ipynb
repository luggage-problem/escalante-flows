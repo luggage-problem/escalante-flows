{
 "cells": [
  {
   "cell_type": "code",
   "execution_count": null,
   "id": "6446a0c5",
   "metadata": {},
   "outputs": [],
   "source": [
    "import pysheds\n",
    "import os\n",
    "from pysheds.grid import Grid\n",
    "import matplotlib.pyplot as plt\n",
    "import numpy as np\n",
    "import xarray as xr\n",
    "import rioxarray"
   ]
  },
  {
   "cell_type": "code",
   "execution_count": null,
   "id": "2bdd5459",
   "metadata": {},
   "outputs": [],
   "source": [
    "ds = xr.open_dataset(\"../data/srtm1_30m_utah.tif\", engine=\"rasterio\")"
   ]
  },
  {
   "cell_type": "code",
   "execution_count": null,
   "id": "44c22222",
   "metadata": {},
   "outputs": [],
   "source": [
    "grid = Grid.from_raster(\"../data/srtm1_30m_utah.tif\")\n",
    "dem = grid.read_raster(\"../data/srtm1_30m_utah.tif\")"
   ]
  },
  {
   "cell_type": "code",
   "execution_count": null,
   "id": "337908fd",
   "metadata": {},
   "outputs": [],
   "source": [
    "type(grid)"
   ]
  },
  {
   "cell_type": "code",
   "execution_count": null,
   "id": "9f3e23cd",
   "metadata": {},
   "outputs": [],
   "source": [
    "type(dem)"
   ]
  },
  {
   "cell_type": "code",
   "execution_count": null,
   "id": "da905501",
   "metadata": {},
   "outputs": [],
   "source": [
    "# Fill depressions\n",
    "flooded_dem = grid.fill_depressions(dem)\n",
    "\n",
    "# Resolve flats\n",
    "inflated_dem = grid.resolve_flats(flooded_dem)\n",
    "fdir = grid.flowdir(inflated_dem)"
   ]
  },
  {
   "cell_type": "code",
   "execution_count": null,
   "id": "efc6712d",
   "metadata": {},
   "outputs": [],
   "source": [
    "# Specify pour point\n",
    "x, y = -111.575, 37.778\n",
    "# Delineate the catchment\n",
    "catch = grid.catchment(x=x, y=y, fdir=fdir, xytype=\"coordinate\")\n",
    "\n",
    "# Plot the result\n",
    "grid.clip_to(catch)\n",
    "catch_view = grid.view(catch)"
   ]
  },
  {
   "cell_type": "code",
   "execution_count": null,
   "id": "a505bc59",
   "metadata": {},
   "outputs": [],
   "source": [
    "# Plot the catchment\n",
    "fig, ax = plt.subplots(figsize=(8, 6))\n",
    "fig.patch.set_alpha(0)\n",
    "\n",
    "plt.grid(\"on\", zorder=0)\n",
    "im = ax.imshow(\n",
    "    np.where(catch_view, catch_view, np.nan),\n",
    "    extent=grid.extent,\n",
    "    zorder=1,\n",
    "    cmap=\"Greys_r\",\n",
    ")\n",
    "plt.xlabel(\"Longitude\")\n",
    "plt.ylabel(\"Latitude\")\n",
    "plt.title(\"Delineated Catchment\", size=14)"
   ]
  },
  {
   "cell_type": "code",
   "execution_count": null,
   "id": "793da3f9",
   "metadata": {},
   "outputs": [],
   "source": [
    "import fiona\n",
    "\n",
    "grid = Grid.from_ascii(\"./data/dir.asc\")\n",
    "\n",
    "# Specify pour point\n",
    "x, y = -97.294167, 32.73750\n",
    "\n",
    "# Delineate the catchment\n",
    "catch = grid.catchment(x=x, y=y, fdir=fdir, xytype=\"coordinate\")\n",
    "\n",
    "# Clip to catchment\n",
    "grid.clip_to(catch)\n",
    "\n",
    "# Create view\n",
    "catch_view = grid.view(catch, dtype=np.uint8)\n",
    "\n",
    "# Create a vector representation of the catchment mask\n",
    "shapes = grid.polygonize(catch_view)\n",
    "\n",
    "# Specify schema\n",
    "schema = {\"geometry\": \"Polygon\", \"properties\": {\"LABEL\": \"float:16\"}}\n",
    "\n",
    "# Write shapefile\n",
    "with fiona.open(\n",
    "    \"catchment.shp\",\n",
    "    \"w\",\n",
    "    driver=\"ESRI Shapefile\",\n",
    "    crs=grid.crs.srs,\n",
    "    schema=schema,\n",
    ") as c:\n",
    "    i = 0\n",
    "    for shape, value in shapes:\n",
    "        rec = {}\n",
    "        rec[\"geometry\"] = shape\n",
    "        rec[\"properties\"] = {\"LABEL\": str(value)}\n",
    "        rec[\"id\"] = str(i)\n",
    "        c.write(rec)\n",
    "        i += 1"
   ]
  },
  {
   "cell_type": "code",
   "execution_count": null,
   "id": "00210c6b",
   "metadata": {},
   "outputs": [],
   "source": [
    "shapes = grid.polygonize(catch_view)"
   ]
  },
  {
   "cell_type": "code",
   "execution_count": null,
   "id": "50a3ba86",
   "metadata": {},
   "outputs": [],
   "source": [
    "shapes"
   ]
  }
 ],
 "metadata": {
  "kernelspec": {
   "display_name": "Python 3 (ipykernel)",
   "language": "python",
   "name": "python3"
  },
  "language_info": {
   "codemirror_mode": {
    "name": "ipython",
    "version": 3
   },
   "file_extension": ".py",
   "mimetype": "text/x-python",
   "name": "python",
   "nbconvert_exporter": "python",
   "pygments_lexer": "ipython3",
   "version": "3.9.7"
  }
 },
 "nbformat": 4,
 "nbformat_minor": 5
}
