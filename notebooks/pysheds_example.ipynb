{
 "cells": [
  {
   "cell_type": "code",
   "execution_count": 3,
   "id": "6446a0c5",
   "metadata": {},
   "outputs": [
    {
     "name": "stderr",
     "output_type": "stream",
     "text": [
      "OMP: Info #271: omp_set_nested routine deprecated, please use omp_set_max_active_levels instead.\n"
     ]
    }
   ],
   "source": [
    "import pysheds\n",
    "import os \n",
    "from pysheds.grid import Grid\n",
    "import matplotlib.pyplot as plt\n",
    "import numpy as np\n",
    "import xarray as xr\n",
    "import rioxarray"
   ]
  },
  {
   "cell_type": "code",
   "execution_count": null,
   "id": "2bdd5459",
   "metadata": {},
   "outputs": [],
   "source": [
    "ds = xr.open_dataset('../data/srtm1_30m_utah.tif', engine=\"rasterio\")\n"
   ]
  },
  {
   "cell_type": "code",
   "execution_count": null,
   "id": "090bd61e",
   "metadata": {},
   "outputs": [],
   "source": []
  },
  {
   "cell_type": "code",
   "execution_count": null,
   "id": "99846869",
   "metadata": {},
   "outputs": [],
   "source": []
  },
  {
   "cell_type": "code",
   "execution_count": 4,
   "id": "44c22222",
   "metadata": {},
   "outputs": [],
   "source": [
    "grid = Grid.from_raster('../data/srtm1_30m_utah.tif')\n",
    "dem = grid.read_raster('../data/srtm1_30m_utah.tif')\n"
   ]
  },
  {
   "cell_type": "code",
   "execution_count": 8,
   "id": "337908fd",
   "metadata": {},
   "outputs": [
    {
     "data": {
      "text/plain": [
       "pysheds.sgrid.sGrid"
      ]
     },
     "execution_count": 8,
     "metadata": {},
     "output_type": "execute_result"
    }
   ],
   "source": [
    "type(grid)"
   ]
  },
  {
   "cell_type": "code",
   "execution_count": 7,
   "id": "9f3e23cd",
   "metadata": {},
   "outputs": [
    {
     "data": {
      "text/plain": [
       "pysheds.sview.Raster"
      ]
     },
     "execution_count": 7,
     "metadata": {},
     "output_type": "execute_result"
    }
   ],
   "source": [
    "type(dem)"
   ]
  },
  {
   "cell_type": "code",
   "execution_count": 10,
   "id": "da905501",
   "metadata": {},
   "outputs": [
    {
     "ename": "KeyboardInterrupt",
     "evalue": "",
     "output_type": "error",
     "traceback": [
      "\u001b[0;31m---------------------------------------------------------------------------\u001b[0m",
      "\u001b[0;31mKeyboardInterrupt\u001b[0m                         Traceback (most recent call last)",
      "\u001b[0;32m/var/folders/mb/7d7yq_4j2qgdfm_j3j4tsyl40000gn/T/ipykernel_15321/2691832847.py\u001b[0m in \u001b[0;36m<module>\u001b[0;34m\u001b[0m\n\u001b[1;32m      1\u001b[0m \u001b[0;31m# Fill depressions\u001b[0m\u001b[0;34m\u001b[0m\u001b[0;34m\u001b[0m\u001b[0m\n\u001b[0;32m----> 2\u001b[0;31m \u001b[0mflooded_dem\u001b[0m \u001b[0;34m=\u001b[0m \u001b[0mgrid\u001b[0m\u001b[0;34m.\u001b[0m\u001b[0mfill_depressions\u001b[0m\u001b[0;34m(\u001b[0m\u001b[0mdem\u001b[0m\u001b[0;34m)\u001b[0m\u001b[0;34m\u001b[0m\u001b[0;34m\u001b[0m\u001b[0m\n\u001b[0m\u001b[1;32m      3\u001b[0m \u001b[0;34m\u001b[0m\u001b[0m\n\u001b[1;32m      4\u001b[0m \u001b[0;31m# Resolve flats\u001b[0m\u001b[0;34m\u001b[0m\u001b[0;34m\u001b[0m\u001b[0m\n\u001b[1;32m      5\u001b[0m \u001b[0minflated_dem\u001b[0m \u001b[0;34m=\u001b[0m \u001b[0mgrid\u001b[0m\u001b[0;34m.\u001b[0m\u001b[0mresolve_flats\u001b[0m\u001b[0;34m(\u001b[0m\u001b[0mflooded_dem\u001b[0m\u001b[0;34m)\u001b[0m\u001b[0;34m\u001b[0m\u001b[0;34m\u001b[0m\u001b[0m\n",
      "\u001b[0;32m~/opt/anaconda3/envs/install/envs/cmip6/lib/python3.9/site-packages/pysheds/sgrid.py\u001b[0m in \u001b[0;36mfill_depressions\u001b[0;34m(self, dem, nodata_out, **kwargs)\u001b[0m\n\u001b[1;32m   2092\u001b[0m         \u001b[0mseed\u001b[0m \u001b[0;34m=\u001b[0m \u001b[0mnp\u001b[0m\u001b[0;34m.\u001b[0m\u001b[0mcopy\u001b[0m\u001b[0;34m(\u001b[0m\u001b[0mdem\u001b[0m\u001b[0;34m)\u001b[0m\u001b[0;34m\u001b[0m\u001b[0;34m\u001b[0m\u001b[0m\n\u001b[1;32m   2093\u001b[0m         \u001b[0mseed\u001b[0m\u001b[0;34m[\u001b[0m\u001b[0;34m~\u001b[0m\u001b[0mdem_mask\u001b[0m\u001b[0;34m]\u001b[0m \u001b[0;34m=\u001b[0m \u001b[0mnp\u001b[0m\u001b[0;34m.\u001b[0m\u001b[0mnanmax\u001b[0m\u001b[0;34m(\u001b[0m\u001b[0mdem\u001b[0m\u001b[0;34m)\u001b[0m\u001b[0;34m\u001b[0m\u001b[0;34m\u001b[0m\u001b[0m\n\u001b[0;32m-> 2094\u001b[0;31m         \u001b[0mdem_out\u001b[0m \u001b[0;34m=\u001b[0m \u001b[0mskimage\u001b[0m\u001b[0;34m.\u001b[0m\u001b[0mmorphology\u001b[0m\u001b[0;34m.\u001b[0m\u001b[0mreconstruction\u001b[0m\u001b[0;34m(\u001b[0m\u001b[0mseed\u001b[0m\u001b[0;34m,\u001b[0m \u001b[0mdem\u001b[0m\u001b[0;34m,\u001b[0m \u001b[0mmethod\u001b[0m\u001b[0;34m=\u001b[0m\u001b[0;34m'erosion'\u001b[0m\u001b[0;34m)\u001b[0m\u001b[0;34m\u001b[0m\u001b[0;34m\u001b[0m\u001b[0m\n\u001b[0m\u001b[1;32m   2095\u001b[0m         dem_out = self._output_handler(data=dem_out, viewfinder=dem.viewfinder,\n\u001b[1;32m   2096\u001b[0m                                      metadata=dem.metadata, nodata=nodata_out)\n",
      "\u001b[0;32m~/opt/anaconda3/envs/install/envs/cmip6/lib/python3.9/site-packages/skimage/morphology/greyreconstruct.py\u001b[0m in \u001b[0;36mreconstruction\u001b[0;34m(seed, mask, method, selem, offset)\u001b[0m\n\u001b[1;32m    193\u001b[0m     \u001b[0mnext\u001b[0m \u001b[0;34m=\u001b[0m \u001b[0mnp\u001b[0m\u001b[0;34m.\u001b[0m\u001b[0mfull\u001b[0m\u001b[0;34m(\u001b[0m\u001b[0mlen\u001b[0m\u001b[0;34m(\u001b[0m\u001b[0mimages\u001b[0m\u001b[0;34m)\u001b[0m\u001b[0;34m,\u001b[0m \u001b[0;34m-\u001b[0m\u001b[0;36m1\u001b[0m\u001b[0;34m,\u001b[0m \u001b[0mnp\u001b[0m\u001b[0;34m.\u001b[0m\u001b[0mint32\u001b[0m\u001b[0;34m)\u001b[0m\u001b[0;34m\u001b[0m\u001b[0;34m\u001b[0m\u001b[0m\n\u001b[1;32m    194\u001b[0m     \u001b[0mprev\u001b[0m\u001b[0;34m[\u001b[0m\u001b[0mindex_sorted\u001b[0m\u001b[0;34m[\u001b[0m\u001b[0;36m1\u001b[0m\u001b[0;34m:\u001b[0m\u001b[0;34m]\u001b[0m\u001b[0;34m]\u001b[0m \u001b[0;34m=\u001b[0m \u001b[0mindex_sorted\u001b[0m\u001b[0;34m[\u001b[0m\u001b[0;34m:\u001b[0m\u001b[0;34m-\u001b[0m\u001b[0;36m1\u001b[0m\u001b[0;34m]\u001b[0m\u001b[0;34m\u001b[0m\u001b[0;34m\u001b[0m\u001b[0m\n\u001b[0;32m--> 195\u001b[0;31m     \u001b[0mnext\u001b[0m\u001b[0;34m[\u001b[0m\u001b[0mindex_sorted\u001b[0m\u001b[0;34m[\u001b[0m\u001b[0;34m:\u001b[0m\u001b[0;34m-\u001b[0m\u001b[0;36m1\u001b[0m\u001b[0;34m]\u001b[0m\u001b[0;34m]\u001b[0m \u001b[0;34m=\u001b[0m \u001b[0mindex_sorted\u001b[0m\u001b[0;34m[\u001b[0m\u001b[0;36m1\u001b[0m\u001b[0;34m:\u001b[0m\u001b[0;34m]\u001b[0m\u001b[0;34m\u001b[0m\u001b[0;34m\u001b[0m\u001b[0m\n\u001b[0m\u001b[1;32m    196\u001b[0m \u001b[0;34m\u001b[0m\u001b[0m\n\u001b[1;32m    197\u001b[0m     \u001b[0;31m# Cython inner-loop compares the rank of pixel values.\u001b[0m\u001b[0;34m\u001b[0m\u001b[0;34m\u001b[0m\u001b[0m\n",
      "\u001b[0;31mKeyboardInterrupt\u001b[0m: "
     ]
    }
   ],
   "source": [
    "# Fill depressions\n",
    "flooded_dem = grid.fill_depressions(dem)\n",
    "\n",
    "# Resolve flats\n",
    "inflated_dem = grid.resolve_flats(flooded_dem)\n",
    "fdir = grid.flowdir(inflated_dem)"
   ]
  },
  {
   "cell_type": "code",
   "execution_count": null,
   "id": "ba357928",
   "metadata": {},
   "outputs": [],
   "source": []
  },
  {
   "cell_type": "code",
   "execution_count": null,
   "id": "efc6712d",
   "metadata": {},
   "outputs": [],
   "source": [
    "# Specify pour point\n",
    "x, y = -111.575 ,  37.778\n",
    "# Delineate the catchment\n",
    "catch = grid.catchment(x=x, y=y, fdir=fdir, xytype='coordinate')\n",
    "\n",
    "# Plot the result\n",
    "grid.clip_to(catch)\n",
    "catch_view = grid.view(catch)\n"
   ]
  },
  {
   "cell_type": "code",
   "execution_count": null,
   "id": "a505bc59",
   "metadata": {},
   "outputs": [],
   "source": [
    "# Plot the catchment\n",
    "fig, ax = plt.subplots(figsize=(8,6))\n",
    "fig.patch.set_alpha(0)\n",
    "\n",
    "plt.grid('on', zorder=0)\n",
    "im = ax.imshow(np.where(catch_view, catch_view, np.nan), extent=grid.extent,\n",
    "               zorder=1, cmap='Greys_r')\n",
    "plt.xlabel('Longitude')\n",
    "plt.ylabel('Latitude')\n",
    "plt.title('Delineated Catchment', size=14)"
   ]
  },
  {
   "cell_type": "code",
   "execution_count": null,
   "id": "793da3f9",
   "metadata": {},
   "outputs": [],
   "source": [
    "import fiona\n",
    "\n",
    "grid = Grid.from_ascii('./data/dir.asc')\n",
    "\n",
    "# Specify pour point\n",
    "x, y = -97.294167, 32.73750\n",
    "\n",
    "# Delineate the catchment\n",
    "catch = grid.catchment(x=x, y=y, fdir=fdir,\n",
    "                       xytype='coordinate')\n",
    "\n",
    "# Clip to catchment\n",
    "grid.clip_to(catch)\n",
    "\n",
    "# Create view\n",
    "catch_view = grid.view(catch, dtype=np.uint8)\n",
    "\n",
    "# Create a vector representation of the catchment mask\n",
    "shapes = grid.polygonize(catch_view)\n",
    "\n",
    "# Specify schema\n",
    "schema = {\n",
    "        'geometry': 'Polygon',\n",
    "        'properties': {'LABEL': 'float:16'}\n",
    "}\n",
    "\n",
    "# Write shapefile\n",
    "with fiona.open('catchment.shp', 'w',\n",
    "                driver='ESRI Shapefile',\n",
    "                crs=grid.crs.srs,\n",
    "                schema=schema) as c:\n",
    "    i = 0\n",
    "    for shape, value in shapes:\n",
    "        rec = {}\n",
    "        rec['geometry'] = shape\n",
    "        rec['properties'] = {'LABEL' : str(value)}\n",
    "        rec['id'] = str(i)\n",
    "        c.write(rec)\n",
    "        i += 1\n"
   ]
  },
  {
   "cell_type": "code",
   "execution_count": null,
   "id": "00210c6b",
   "metadata": {},
   "outputs": [],
   "source": [
    "shapes = grid.polygonize(catch_view)\n"
   ]
  },
  {
   "cell_type": "code",
   "execution_count": null,
   "id": "50a3ba86",
   "metadata": {},
   "outputs": [],
   "source": [
    "shapes"
   ]
  },
  {
   "cell_type": "code",
   "execution_count": null,
   "id": "8de0e9ce",
   "metadata": {},
   "outputs": [],
   "source": []
  }
 ],
 "metadata": {
  "kernelspec": {
   "display_name": "Python 3 (ipykernel)",
   "language": "python",
   "name": "python3"
  },
  "language_info": {
   "codemirror_mode": {
    "name": "ipython",
    "version": 3
   },
   "file_extension": ".py",
   "mimetype": "text/x-python",
   "name": "python",
   "nbconvert_exporter": "python",
   "pygments_lexer": "ipython3",
   "version": "3.9.7"
  }
 },
 "nbformat": 4,
 "nbformat_minor": 5
}
