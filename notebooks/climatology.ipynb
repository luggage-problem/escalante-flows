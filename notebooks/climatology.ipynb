{
 "cells": [
  {
   "cell_type": "code",
   "execution_count": null,
   "id": "118d01fb",
   "metadata": {},
   "outputs": [],
   "source": [
    "import pandas\n",
    "from flows_n_snows import config, utils\n",
    "import matplotlib.pyplot as plt"
   ]
  },
  {
   "cell_type": "code",
   "execution_count": null,
   "id": "64ba521d",
   "metadata": {},
   "outputs": [],
   "source": [
    "flow_df = utils.fetch_river_flows(\n",
    "    config.river_gauge, \"1980-01-01\", \"2021-01-01\"\n",
    ")\n",
    "flow_df[\"datetime\"] = flow_df.index\n",
    "flow_df[\"doy\"] = flow_df.datetime.dt.dayofyear"
   ]
  },
  {
   "cell_type": "code",
   "execution_count": null,
   "id": "47e1e32a",
   "metadata": {},
   "outputs": [],
   "source": [
    "list(flow_df)"
   ]
  },
  {
   "cell_type": "code",
   "execution_count": null,
   "id": "1257d558",
   "metadata": {},
   "outputs": [],
   "source": [
    "stat_list = [\"count\", \"min\", \"max\", \"mean\", \"std\", \"median\", \"mad\"]\n",
    "doy_stats = flow_df.groupby(\"doy\").agg(stat_list)[\"value\"]\n",
    "doy_stats"
   ]
  },
  {
   "cell_type": "code",
   "execution_count": null,
   "id": "27735c22",
   "metadata": {},
   "outputs": [],
   "source": [
    "f, ax = plt.subplots(figsize=(10, 5))\n",
    "\n",
    "for stat in [\"min\", \"mean\", \"median\"]:\n",
    "    ax.plot(doy_stats.index, doy_stats[stat], label=stat)\n",
    "\n",
    "ax.fill_between(\n",
    "    doy_stats.index,\n",
    "    doy_stats[\"mean\"] - doy_stats[\"std\"],\n",
    "    doy_stats[\"mean\"] + doy_stats[\"std\"],\n",
    "    color=\"lightgrey\",\n",
    "    label=\"1-std\",\n",
    ")\n",
    "\n",
    "# title = f'{sitecode}: \\n{values_df.index.min().date()} to {values_df.index.max().date()} ({nyears:.2f} years)'\n",
    "\n",
    "# ax.set_title(title)\n",
    "ax.set_xlabel(\"Day of Year\")\n",
    "ax.set_ylabel(\"CFS (acre ft???)\")\n",
    "ax.grid()\n",
    "ax.legend()\n",
    "ax.set_xlim(0, 366)\n",
    "ax.set_ylim(0, 30)\n",
    "plt.savefig(\"escalante\")"
   ]
  }
 ],
 "metadata": {
  "kernelspec": {
   "display_name": "Python 3 (ipykernel)",
   "language": "python",
   "name": "python3"
  },
  "language_info": {
   "codemirror_mode": {
    "name": "ipython",
    "version": 3
   },
   "file_extension": ".py",
   "mimetype": "text/x-python",
   "name": "python",
   "nbconvert_exporter": "python",
   "pygments_lexer": "ipython3",
   "version": "3.9.9"
  }
 },
 "nbformat": 4,
 "nbformat_minor": 5
}
