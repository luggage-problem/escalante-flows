{
 "cells": [
  {
   "cell_type": "code",
   "execution_count": 39,
   "id": "f7b17c25",
   "metadata": {},
   "outputs": [],
   "source": [
    "import pandas as pd\n",
    "import dataretrieval.nwis as nwis\n",
    "from bokeh.plotting import figure, show\n",
    "\n",
    "site = '09337500'\n",
    "\n",
    "df = nwis.get_record(sites=site, service='dv', start='2021-05-01', end='2021-05-01',parameterCd='00060')"
   ]
  },
  {
   "cell_type": "code",
   "execution_count": 40,
   "id": "ac00dbc5",
   "metadata": {},
   "outputs": [],
   "source": [
    "df = df[(df['00060_Mean']> -999999.0) & (df['00060_Mean']< 100)]\n",
    "df['dt'] = df.index\n"
   ]
  },
  {
   "cell_type": "code",
   "execution_count": 41,
   "id": "d608c6c7",
   "metadata": {},
   "outputs": [
    {
     "data": {
      "text/html": [
       "<div>\n",
       "<style scoped>\n",
       "    .dataframe tbody tr th:only-of-type {\n",
       "        vertical-align: middle;\n",
       "    }\n",
       "\n",
       "    .dataframe tbody tr th {\n",
       "        vertical-align: top;\n",
       "    }\n",
       "\n",
       "    .dataframe thead th {\n",
       "        text-align: right;\n",
       "    }\n",
       "</style>\n",
       "<table border=\"1\" class=\"dataframe\">\n",
       "  <thead>\n",
       "    <tr style=\"text-align: right;\">\n",
       "      <th></th>\n",
       "      <th>00060_Mean</th>\n",
       "      <th>00060_Mean_cd</th>\n",
       "      <th>site_no</th>\n",
       "      <th>dt</th>\n",
       "    </tr>\n",
       "    <tr>\n",
       "      <th>datetime</th>\n",
       "      <th></th>\n",
       "      <th></th>\n",
       "      <th></th>\n",
       "      <th></th>\n",
       "    </tr>\n",
       "  </thead>\n",
       "  <tbody>\n",
       "    <tr>\n",
       "      <th>2021-05-01 00:00:00+00:00</th>\n",
       "      <td>0.96</td>\n",
       "      <td>A</td>\n",
       "      <td>09337500</td>\n",
       "      <td>2021-05-01 00:00:00+00:00</td>\n",
       "    </tr>\n",
       "  </tbody>\n",
       "</table>\n",
       "</div>"
      ],
      "text/plain": [
       "                           00060_Mean 00060_Mean_cd   site_no  \\\n",
       "datetime                                                        \n",
       "2021-05-01 00:00:00+00:00        0.96             A  09337500   \n",
       "\n",
       "                                                 dt  \n",
       "datetime                                             \n",
       "2021-05-01 00:00:00+00:00 2021-05-01 00:00:00+00:00  "
      ]
     },
     "execution_count": 41,
     "metadata": {},
     "output_type": "execute_result"
    }
   ],
   "source": [
    "df"
   ]
  },
  {
   "cell_type": "code",
   "execution_count": 33,
   "id": "3882018e",
   "metadata": {},
   "outputs": [
    {
     "data": {
      "text/html": [
       "<div style=\"display: table;\"><div style=\"display: table-row;\"><div style=\"display: table-cell;\"><b title=\"bokeh.models.renderers.GlyphRenderer\">GlyphRenderer</b>(</div><div style=\"display: table-cell;\">id&nbsp;=&nbsp;'1745', <span id=\"1748\" style=\"cursor: pointer;\">&hellip;)</span></div></div><div class=\"1747\" style=\"display: none;\"><div style=\"display: table-cell;\"></div><div style=\"display: table-cell;\">coordinates&nbsp;=&nbsp;None,</div></div><div class=\"1747\" style=\"display: none;\"><div style=\"display: table-cell;\"></div><div style=\"display: table-cell;\">data_source&nbsp;=&nbsp;ColumnDataSource(id='1740', ...),</div></div><div class=\"1747\" style=\"display: none;\"><div style=\"display: table-cell;\"></div><div style=\"display: table-cell;\">glyph&nbsp;=&nbsp;Circle(id='1742', ...),</div></div><div class=\"1747\" style=\"display: none;\"><div style=\"display: table-cell;\"></div><div style=\"display: table-cell;\">group&nbsp;=&nbsp;None,</div></div><div class=\"1747\" style=\"display: none;\"><div style=\"display: table-cell;\"></div><div style=\"display: table-cell;\">hover_glyph&nbsp;=&nbsp;None,</div></div><div class=\"1747\" style=\"display: none;\"><div style=\"display: table-cell;\"></div><div style=\"display: table-cell;\">js_event_callbacks&nbsp;=&nbsp;{},</div></div><div class=\"1747\" style=\"display: none;\"><div style=\"display: table-cell;\"></div><div style=\"display: table-cell;\">js_property_callbacks&nbsp;=&nbsp;{},</div></div><div class=\"1747\" style=\"display: none;\"><div style=\"display: table-cell;\"></div><div style=\"display: table-cell;\">level&nbsp;=&nbsp;'glyph',</div></div><div class=\"1747\" style=\"display: none;\"><div style=\"display: table-cell;\"></div><div style=\"display: table-cell;\">muted&nbsp;=&nbsp;False,</div></div><div class=\"1747\" style=\"display: none;\"><div style=\"display: table-cell;\"></div><div style=\"display: table-cell;\">muted_glyph&nbsp;=&nbsp;Circle(id='1744', ...),</div></div><div class=\"1747\" style=\"display: none;\"><div style=\"display: table-cell;\"></div><div style=\"display: table-cell;\">name&nbsp;=&nbsp;None,</div></div><div class=\"1747\" style=\"display: none;\"><div style=\"display: table-cell;\"></div><div style=\"display: table-cell;\">nonselection_glyph&nbsp;=&nbsp;Circle(id='1743', ...),</div></div><div class=\"1747\" style=\"display: none;\"><div style=\"display: table-cell;\"></div><div style=\"display: table-cell;\">selection_glyph&nbsp;=&nbsp;'auto',</div></div><div class=\"1747\" style=\"display: none;\"><div style=\"display: table-cell;\"></div><div style=\"display: table-cell;\">subscribed_events&nbsp;=&nbsp;[],</div></div><div class=\"1747\" style=\"display: none;\"><div style=\"display: table-cell;\"></div><div style=\"display: table-cell;\">syncable&nbsp;=&nbsp;True,</div></div><div class=\"1747\" style=\"display: none;\"><div style=\"display: table-cell;\"></div><div style=\"display: table-cell;\">tags&nbsp;=&nbsp;[],</div></div><div class=\"1747\" style=\"display: none;\"><div style=\"display: table-cell;\"></div><div style=\"display: table-cell;\">view&nbsp;=&nbsp;CDSView(id='1746', ...),</div></div><div class=\"1747\" style=\"display: none;\"><div style=\"display: table-cell;\"></div><div style=\"display: table-cell;\">visible&nbsp;=&nbsp;True,</div></div><div class=\"1747\" style=\"display: none;\"><div style=\"display: table-cell;\"></div><div style=\"display: table-cell;\">x_range_name&nbsp;=&nbsp;'default',</div></div><div class=\"1747\" style=\"display: none;\"><div style=\"display: table-cell;\"></div><div style=\"display: table-cell;\">y_range_name&nbsp;=&nbsp;'default')</div></div></div>\n",
       "<script>\n",
       "(function() {\n",
       "  let expanded = false;\n",
       "  const ellipsis = document.getElementById(\"1748\");\n",
       "  ellipsis.addEventListener(\"click\", function() {\n",
       "    const rows = document.getElementsByClassName(\"1747\");\n",
       "    for (let i = 0; i < rows.length; i++) {\n",
       "      const el = rows[i];\n",
       "      el.style.display = expanded ? \"none\" : \"table-row\";\n",
       "    }\n",
       "    ellipsis.innerHTML = expanded ? \"&hellip;)\" : \"&lsaquo;&lsaquo;&lsaquo;\";\n",
       "    expanded = !expanded;\n",
       "  });\n",
       "})();\n",
       "</script>\n"
      ],
      "text/plain": [
       "GlyphRenderer(id='1745', ...)"
      ]
     },
     "execution_count": 33,
     "metadata": {},
     "output_type": "execute_result"
    }
   ],
   "source": []
  },
  {
   "cell_type": "code",
   "execution_count": 35,
   "id": "e8397337",
   "metadata": {},
   "outputs": [],
   "source": []
  },
  {
   "cell_type": "code",
   "execution_count": null,
   "id": "4b391cf8",
   "metadata": {},
   "outputs": [],
   "source": []
  },
  {
   "cell_type": "code",
   "execution_count": 9,
   "id": "5a69050e",
   "metadata": {},
   "outputs": [
    {
     "data": {
      "text/html": [
       "<div>\n",
       "<style scoped>\n",
       "    .dataframe tbody tr th:only-of-type {\n",
       "        vertical-align: middle;\n",
       "    }\n",
       "\n",
       "    .dataframe tbody tr th {\n",
       "        vertical-align: top;\n",
       "    }\n",
       "\n",
       "    .dataframe thead th {\n",
       "        text-align: right;\n",
       "    }\n",
       "</style>\n",
       "<table border=\"1\" class=\"dataframe\">\n",
       "  <thead>\n",
       "    <tr style=\"text-align: right;\">\n",
       "      <th></th>\n",
       "      <th>00060_Mean</th>\n",
       "      <th>00060_Mean_cd</th>\n",
       "      <th>site_no</th>\n",
       "    </tr>\n",
       "    <tr>\n",
       "      <th>datetime</th>\n",
       "      <th></th>\n",
       "      <th></th>\n",
       "      <th></th>\n",
       "    </tr>\n",
       "  </thead>\n",
       "  <tbody>\n",
       "    <tr>\n",
       "      <th>1990-12-31 00:00:00+00:00</th>\n",
       "      <td>0.43</td>\n",
       "      <td>A, e</td>\n",
       "      <td>09337500</td>\n",
       "    </tr>\n",
       "    <tr>\n",
       "      <th>1991-01-01 00:00:00+00:00</th>\n",
       "      <td>0.38</td>\n",
       "      <td>A, e</td>\n",
       "      <td>09337500</td>\n",
       "    </tr>\n",
       "    <tr>\n",
       "      <th>1991-01-02 00:00:00+00:00</th>\n",
       "      <td>0.44</td>\n",
       "      <td>A, e</td>\n",
       "      <td>09337500</td>\n",
       "    </tr>\n",
       "    <tr>\n",
       "      <th>1991-01-03 00:00:00+00:00</th>\n",
       "      <td>0.50</td>\n",
       "      <td>A, e</td>\n",
       "      <td>09337500</td>\n",
       "    </tr>\n",
       "    <tr>\n",
       "      <th>1991-01-04 00:00:00+00:00</th>\n",
       "      <td>0.59</td>\n",
       "      <td>A, e</td>\n",
       "      <td>09337500</td>\n",
       "    </tr>\n",
       "    <tr>\n",
       "      <th>...</th>\n",
       "      <td>...</td>\n",
       "      <td>...</td>\n",
       "      <td>...</td>\n",
       "    </tr>\n",
       "    <tr>\n",
       "      <th>2022-01-12 00:00:00+00:00</th>\n",
       "      <td>-999999.00</td>\n",
       "      <td>P, Ice</td>\n",
       "      <td>09337500</td>\n",
       "    </tr>\n",
       "    <tr>\n",
       "      <th>2022-01-13 00:00:00+00:00</th>\n",
       "      <td>-999999.00</td>\n",
       "      <td>P, Ice</td>\n",
       "      <td>09337500</td>\n",
       "    </tr>\n",
       "    <tr>\n",
       "      <th>2022-01-14 00:00:00+00:00</th>\n",
       "      <td>-999999.00</td>\n",
       "      <td>P, Ice</td>\n",
       "      <td>09337500</td>\n",
       "    </tr>\n",
       "    <tr>\n",
       "      <th>2022-01-15 00:00:00+00:00</th>\n",
       "      <td>-999999.00</td>\n",
       "      <td>P, Ice</td>\n",
       "      <td>09337500</td>\n",
       "    </tr>\n",
       "    <tr>\n",
       "      <th>2022-01-16 00:00:00+00:00</th>\n",
       "      <td>-999999.00</td>\n",
       "      <td>P, Ice</td>\n",
       "      <td>09337500</td>\n",
       "    </tr>\n",
       "  </tbody>\n",
       "</table>\n",
       "<p>11339 rows × 3 columns</p>\n",
       "</div>"
      ],
      "text/plain": [
       "                           00060_Mean 00060_Mean_cd   site_no\n",
       "datetime                                                     \n",
       "1990-12-31 00:00:00+00:00        0.43          A, e  09337500\n",
       "1991-01-01 00:00:00+00:00        0.38          A, e  09337500\n",
       "1991-01-02 00:00:00+00:00        0.44          A, e  09337500\n",
       "1991-01-03 00:00:00+00:00        0.50          A, e  09337500\n",
       "1991-01-04 00:00:00+00:00        0.59          A, e  09337500\n",
       "...                               ...           ...       ...\n",
       "2022-01-12 00:00:00+00:00  -999999.00        P, Ice  09337500\n",
       "2022-01-13 00:00:00+00:00  -999999.00        P, Ice  09337500\n",
       "2022-01-14 00:00:00+00:00  -999999.00        P, Ice  09337500\n",
       "2022-01-15 00:00:00+00:00  -999999.00        P, Ice  09337500\n",
       "2022-01-16 00:00:00+00:00  -999999.00        P, Ice  09337500\n",
       "\n",
       "[11339 rows x 3 columns]"
      ]
     },
     "execution_count": 9,
     "metadata": {},
     "output_type": "execute_result"
    }
   ],
   "source": [
    "df"
   ]
  },
  {
   "cell_type": "code",
   "execution_count": null,
   "id": "e7b32937",
   "metadata": {},
   "outputs": [],
   "source": []
  }
 ],
 "metadata": {
  "kernelspec": {
   "display_name": "Python 3 (ipykernel)",
   "language": "python",
   "name": "python3"
  },
  "language_info": {
   "codemirror_mode": {
    "name": "ipython",
    "version": 3
   },
   "file_extension": ".py",
   "mimetype": "text/x-python",
   "name": "python",
   "nbconvert_exporter": "python",
   "pygments_lexer": "ipython3",
   "version": "3.9.9"
  }
 },
 "nbformat": 4,
 "nbformat_minor": 5
}
